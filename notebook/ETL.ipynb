{
 "cells": [
  {
   "cell_type": "code",
   "execution_count": 1,
   "metadata": {},
   "outputs": [
    {
     "data": {
      "text/plain": [
       "['Aroma-1_Unit_000_Simulation_Results_Rerun_001_050_Yu Final.xlsx',\n",
       " 'Aroma-1_Unit_000_Simulation_Results_Rerun_051_100_Yu Final.xlsx',\n",
       " 'Aroma-1_Unit_000_Simulation_Results_Rerun_101_150_Yu Final.xlsx',\n",
       " 'Aroma-1_Unit_000_Simulation_Results_Rerun_151_200_Yu Final.xlsx',\n",
       " 'Aroma-1_Unit_000_Simulation_Results_Rerun_201_250_Yu Final.xlsx',\n",
       " 'Aroma-1_Unit_000_Simulation_Results_Rerun_251_300_Yu Final.xlsx',\n",
       " 'Aroma-1_Unit_000_Simulation_Results_Rerun_301_350_Yu Final.xlsx',\n",
       " 'Aroma-1_Unit_000_Simulation_Results_Rerun_351_400_Yu Final.xlsx',\n",
       " 'Aroma-1_Unit_000_Simulation_Results_Rerun_401_450_Yu Final.xlsx']"
      ]
     },
     "execution_count": 1,
     "metadata": {},
     "output_type": "execute_result"
    }
   ],
   "source": [
    "import pandas as pd\n",
    "import os \n",
    "import joblib\n",
    "import warnings;warnings.simplefilter('ignore')\n",
    "from tqdm import tqdm_notebook as tqdm\n",
    "root = 'PROII20200310/'\n",
    "excel_list = os.listdir('PROII20200310')[2:-1]\n",
    "excel_list"
   ]
  },
  {
   "cell_type": "code",
   "execution_count": 2,
   "metadata": {},
   "outputs": [],
   "source": [
    "df = pd.read_excel(root+excel_list[0],sheet_name='001')\n",
    "component_list = df.iloc[22:22+54,2].values.tolist()\n",
    "component_list = [i.strip() for i in component_list]"
   ]
  },
  {
   "cell_type": "markdown",
   "metadata": {},
   "source": [
    "# clean_data"
   ]
  },
  {
   "cell_type": "code",
   "execution_count": 3,
   "metadata": {},
   "outputs": [],
   "source": [
    "def clean_data(df):\n",
    "    df = df.T.reset_index()\n",
    "    idx = df.iloc[5:,1].values\n",
    "    prefix = df.iloc[1,9:-6].values\n",
    "    prefix = pd.Series(prefix).fillna(method='ffill').values\n",
    "    middle = df.iloc[2,9:-6].values\n",
    "    suffix = df.iloc[3,9:-6].values\n",
    "    col = [ str(p).strip()+'_'+str(m).strip()+'_'+str(s).strip() for p,m,s in zip(prefix,middle,suffix)]\n",
    "    df = df.iloc[5:,9:-6].reset_index(drop=True)\n",
    "    df.columns = col\n",
    "    df.index = idx\n",
    "    return df"
   ]
  },
  {
   "cell_type": "code",
   "execution_count": 4,
   "metadata": {},
   "outputs": [
    {
     "name": "stdout",
     "output_type": "stream",
     "text": [
      "(33, 274)\n"
     ]
    },
    {
     "data": {
      "text/html": [
       "<div>\n",
       "<style scoped>\n",
       "    .dataframe tbody tr th:only-of-type {\n",
       "        vertical-align: middle;\n",
       "    }\n",
       "\n",
       "    .dataframe tbody tr th {\n",
       "        vertical-align: top;\n",
       "    }\n",
       "\n",
       "    .dataframe thead th {\n",
       "        text-align: right;\n",
       "    }\n",
       "</style>\n",
       "<table border=\"1\" class=\"dataframe\">\n",
       "  <thead>\n",
       "    <tr style=\"text-align: right;\">\n",
       "      <th></th>\n",
       "      <th>Case Conditions_Feed Rate to C013 (Input)_m3/hr</th>\n",
       "      <th>Case Conditions_C7+ in Light End (Input)_wt%</th>\n",
       "      <th>Case Conditions_Heart Cut Prod. Rate (Input)_m3/hr</th>\n",
       "      <th>Case Conditions_C6P- in Heart Cut (Input)_wt%</th>\n",
       "      <th>Case Conditions_Feed Rate to C013 (Results)_m3/hr</th>\n",
       "      <th>Case Conditions_C7+ in Light End (Results)_wt%</th>\n",
       "      <th>Case Conditions_Heart Cut Prod. Rate (Results)_m3/hr</th>\n",
       "      <th>Case Conditions_C6P- in Heart Cut (Results)_wt%</th>\n",
       "      <th>Case Conditions_C10+ in Heart Cut (Results)_wt%</th>\n",
       "      <th>Naphtha Properties_Naphtha Feed Rate_m3/hr</th>\n",
       "      <th>...</th>\n",
       "      <th>Heavy End Product Properties_3-Methylnonane_wt%</th>\n",
       "      <th>Heavy End Product Properties_tert-Butylcyclohexane_wt%</th>\n",
       "      <th>Heavy End Product Properties_n-Decane_wt%</th>\n",
       "      <th>Heavy End Product Properties_1,2-Diethylbenzene_wt%</th>\n",
       "      <th>Heavy End Product Properties_n-Undecane_wt%</th>\n",
       "      <th>Heavy End Product Properties_n-Pentylbenzene_wt%</th>\n",
       "      <th>Heavy End Product Properties_n-Dodecane_wt%</th>\n",
       "      <th>Heavy End Product Properties_n-Hexylbenzene_wt%</th>\n",
       "      <th>Heavy End Product Properties_n-Tridecane_wt%</th>\n",
       "      <th>Heavy End Product Properties_Overall_wt%</th>\n",
       "    </tr>\n",
       "  </thead>\n",
       "  <tbody>\n",
       "    <tr>\n",
       "      <td>001-01</td>\n",
       "      <td>10</td>\n",
       "      <td>2.5</td>\n",
       "      <td>100</td>\n",
       "      <td>1</td>\n",
       "      <td>10</td>\n",
       "      <td>2.50006</td>\n",
       "      <td>100</td>\n",
       "      <td>1.00043</td>\n",
       "      <td>6.13864</td>\n",
       "      <td>118</td>\n",
       "      <td>...</td>\n",
       "      <td>13.9561</td>\n",
       "      <td>2.49718</td>\n",
       "      <td>5.28188</td>\n",
       "      <td>3.508</td>\n",
       "      <td>1.0905</td>\n",
       "      <td>0.220558</td>\n",
       "      <td>0.0205293</td>\n",
       "      <td>0.0413709</td>\n",
       "      <td>0</td>\n",
       "      <td>100</td>\n",
       "    </tr>\n",
       "    <tr>\n",
       "      <td>001-02</td>\n",
       "      <td>10</td>\n",
       "      <td>5</td>\n",
       "      <td>100</td>\n",
       "      <td>1</td>\n",
       "      <td>10</td>\n",
       "      <td>4.99988</td>\n",
       "      <td>100</td>\n",
       "      <td>1.0004</td>\n",
       "      <td>6.24905</td>\n",
       "      <td>118</td>\n",
       "      <td>...</td>\n",
       "      <td>14.1675</td>\n",
       "      <td>2.53598</td>\n",
       "      <td>5.36998</td>\n",
       "      <td>3.5699</td>\n",
       "      <td>1.11178</td>\n",
       "      <td>0.224973</td>\n",
       "      <td>0.020956</td>\n",
       "      <td>0.0422407</td>\n",
       "      <td>0</td>\n",
       "      <td>100</td>\n",
       "    </tr>\n",
       "    <tr>\n",
       "      <td>001-03</td>\n",
       "      <td>10</td>\n",
       "      <td>10</td>\n",
       "      <td>100</td>\n",
       "      <td>1</td>\n",
       "      <td>10</td>\n",
       "      <td>10</td>\n",
       "      <td>100</td>\n",
       "      <td>0.999993</td>\n",
       "      <td>6.37605</td>\n",
       "      <td>118</td>\n",
       "      <td>...</td>\n",
       "      <td>14.7221</td>\n",
       "      <td>2.63723</td>\n",
       "      <td>5.5944</td>\n",
       "      <td>3.72486</td>\n",
       "      <td>1.16336</td>\n",
       "      <td>0.235584</td>\n",
       "      <td>0.021969</td>\n",
       "      <td>0.044298</td>\n",
       "      <td>0</td>\n",
       "      <td>100</td>\n",
       "    </tr>\n",
       "    <tr>\n",
       "      <td>001-04</td>\n",
       "      <td>10</td>\n",
       "      <td>2.5</td>\n",
       "      <td>100</td>\n",
       "      <td>1.5</td>\n",
       "      <td>10</td>\n",
       "      <td>2.50002</td>\n",
       "      <td>100</td>\n",
       "      <td>1.50029</td>\n",
       "      <td>6.31633</td>\n",
       "      <td>118</td>\n",
       "      <td>...</td>\n",
       "      <td>12.4087</td>\n",
       "      <td>2.21624</td>\n",
       "      <td>4.67997</td>\n",
       "      <td>3.10153</td>\n",
       "      <td>0.96164</td>\n",
       "      <td>0.194369</td>\n",
       "      <td>0.0180776</td>\n",
       "      <td>0.0364207</td>\n",
       "      <td>0</td>\n",
       "      <td>100</td>\n",
       "    </tr>\n",
       "    <tr>\n",
       "      <td>001-05</td>\n",
       "      <td>10</td>\n",
       "      <td>5</td>\n",
       "      <td>100</td>\n",
       "      <td>1.5</td>\n",
       "      <td>10</td>\n",
       "      <td>5</td>\n",
       "      <td>99.9998</td>\n",
       "      <td>1.49996</td>\n",
       "      <td>6.41686</td>\n",
       "      <td>118</td>\n",
       "      <td>...</td>\n",
       "      <td>12.534</td>\n",
       "      <td>2.23931</td>\n",
       "      <td>4.73287</td>\n",
       "      <td>3.13906</td>\n",
       "      <td>0.974726</td>\n",
       "      <td>0.197096</td>\n",
       "      <td>0.0183426</td>\n",
       "      <td>0.0369624</td>\n",
       "      <td>0</td>\n",
       "      <td>100</td>\n",
       "    </tr>\n",
       "  </tbody>\n",
       "</table>\n",
       "<p>5 rows × 274 columns</p>\n",
       "</div>"
      ],
      "text/plain": [
       "       Case Conditions_Feed Rate to C013 (Input)_m3/hr  \\\n",
       "001-01                                              10   \n",
       "001-02                                              10   \n",
       "001-03                                              10   \n",
       "001-04                                              10   \n",
       "001-05                                              10   \n",
       "\n",
       "       Case Conditions_C7+ in Light End (Input)_wt%  \\\n",
       "001-01                                          2.5   \n",
       "001-02                                            5   \n",
       "001-03                                           10   \n",
       "001-04                                          2.5   \n",
       "001-05                                            5   \n",
       "\n",
       "       Case Conditions_Heart Cut Prod. Rate (Input)_m3/hr  \\\n",
       "001-01                                                100   \n",
       "001-02                                                100   \n",
       "001-03                                                100   \n",
       "001-04                                                100   \n",
       "001-05                                                100   \n",
       "\n",
       "       Case Conditions_C6P- in Heart Cut (Input)_wt%  \\\n",
       "001-01                                             1   \n",
       "001-02                                             1   \n",
       "001-03                                             1   \n",
       "001-04                                           1.5   \n",
       "001-05                                           1.5   \n",
       "\n",
       "       Case Conditions_Feed Rate to C013 (Results)_m3/hr  \\\n",
       "001-01                                                10   \n",
       "001-02                                                10   \n",
       "001-03                                                10   \n",
       "001-04                                                10   \n",
       "001-05                                                10   \n",
       "\n",
       "       Case Conditions_C7+ in Light End (Results)_wt%  \\\n",
       "001-01                                        2.50006   \n",
       "001-02                                        4.99988   \n",
       "001-03                                             10   \n",
       "001-04                                        2.50002   \n",
       "001-05                                              5   \n",
       "\n",
       "       Case Conditions_Heart Cut Prod. Rate (Results)_m3/hr  \\\n",
       "001-01                                                100     \n",
       "001-02                                                100     \n",
       "001-03                                                100     \n",
       "001-04                                                100     \n",
       "001-05                                            99.9998     \n",
       "\n",
       "       Case Conditions_C6P- in Heart Cut (Results)_wt%  \\\n",
       "001-01                                         1.00043   \n",
       "001-02                                          1.0004   \n",
       "001-03                                        0.999993   \n",
       "001-04                                         1.50029   \n",
       "001-05                                         1.49996   \n",
       "\n",
       "       Case Conditions_C10+ in Heart Cut (Results)_wt%  \\\n",
       "001-01                                         6.13864   \n",
       "001-02                                         6.24905   \n",
       "001-03                                         6.37605   \n",
       "001-04                                         6.31633   \n",
       "001-05                                         6.41686   \n",
       "\n",
       "       Naphtha Properties_Naphtha Feed Rate_m3/hr  ...  \\\n",
       "001-01                                        118  ...   \n",
       "001-02                                        118  ...   \n",
       "001-03                                        118  ...   \n",
       "001-04                                        118  ...   \n",
       "001-05                                        118  ...   \n",
       "\n",
       "       Heavy End Product Properties_3-Methylnonane_wt%  \\\n",
       "001-01                                         13.9561   \n",
       "001-02                                         14.1675   \n",
       "001-03                                         14.7221   \n",
       "001-04                                         12.4087   \n",
       "001-05                                          12.534   \n",
       "\n",
       "       Heavy End Product Properties_tert-Butylcyclohexane_wt%  \\\n",
       "001-01                                            2.49718       \n",
       "001-02                                            2.53598       \n",
       "001-03                                            2.63723       \n",
       "001-04                                            2.21624       \n",
       "001-05                                            2.23931       \n",
       "\n",
       "       Heavy End Product Properties_n-Decane_wt%  \\\n",
       "001-01                                   5.28188   \n",
       "001-02                                   5.36998   \n",
       "001-03                                    5.5944   \n",
       "001-04                                   4.67997   \n",
       "001-05                                   4.73287   \n",
       "\n",
       "       Heavy End Product Properties_1,2-Diethylbenzene_wt%  \\\n",
       "001-01                                              3.508    \n",
       "001-02                                             3.5699    \n",
       "001-03                                            3.72486    \n",
       "001-04                                            3.10153    \n",
       "001-05                                            3.13906    \n",
       "\n",
       "       Heavy End Product Properties_n-Undecane_wt%  \\\n",
       "001-01                                      1.0905   \n",
       "001-02                                     1.11178   \n",
       "001-03                                     1.16336   \n",
       "001-04                                     0.96164   \n",
       "001-05                                    0.974726   \n",
       "\n",
       "       Heavy End Product Properties_n-Pentylbenzene_wt%  \\\n",
       "001-01                                         0.220558   \n",
       "001-02                                         0.224973   \n",
       "001-03                                         0.235584   \n",
       "001-04                                         0.194369   \n",
       "001-05                                         0.197096   \n",
       "\n",
       "       Heavy End Product Properties_n-Dodecane_wt%  \\\n",
       "001-01                                   0.0205293   \n",
       "001-02                                    0.020956   \n",
       "001-03                                    0.021969   \n",
       "001-04                                   0.0180776   \n",
       "001-05                                   0.0183426   \n",
       "\n",
       "       Heavy End Product Properties_n-Hexylbenzene_wt%  \\\n",
       "001-01                                       0.0413709   \n",
       "001-02                                       0.0422407   \n",
       "001-03                                        0.044298   \n",
       "001-04                                       0.0364207   \n",
       "001-05                                       0.0369624   \n",
       "\n",
       "       Heavy End Product Properties_n-Tridecane_wt%  \\\n",
       "001-01                                            0   \n",
       "001-02                                            0   \n",
       "001-03                                            0   \n",
       "001-04                                            0   \n",
       "001-05                                            0   \n",
       "\n",
       "       Heavy End Product Properties_Overall_wt%  \n",
       "001-01                                      100  \n",
       "001-02                                      100  \n",
       "001-03                                      100  \n",
       "001-04                                      100  \n",
       "001-05                                      100  \n",
       "\n",
       "[5 rows x 274 columns]"
      ]
     },
     "execution_count": 4,
     "metadata": {},
     "output_type": "execute_result"
    }
   ],
   "source": [
    "temp = clean_data(df)\n",
    "print(temp.shape)\n",
    "temp.head()"
   ]
  },
  {
   "cell_type": "markdown",
   "metadata": {},
   "source": [
    "# for loop load all data"
   ]
  },
  {
   "cell_type": "code",
   "execution_count": 5,
   "metadata": {},
   "outputs": [
    {
     "data": {
      "application/vnd.jupyter.widget-view+json": {
       "model_id": "070bbf5b45e740d39cf5b001099d6c7e",
       "version_major": 2,
       "version_minor": 0
      },
      "text/plain": [
       "HBox(children=(IntProgress(value=0, max=9), HTML(value='')))"
      ]
     },
     "metadata": {},
     "output_type": "display_data"
    },
    {
     "data": {
      "application/vnd.jupyter.widget-view+json": {
       "model_id": "cf9c38697f6b4ca79917c248213dde00",
       "version_major": 2,
       "version_minor": 0
      },
      "text/plain": [
       "HBox(children=(IntProgress(value=0, max=50), HTML(value='')))"
      ]
     },
     "metadata": {},
     "output_type": "display_data"
    },
    {
     "name": "stdout",
     "output_type": "stream",
     "text": [
      "\n",
      "(1650, 277)\n"
     ]
    },
    {
     "data": {
      "application/vnd.jupyter.widget-view+json": {
       "model_id": "caeeb141b2c6419a998412cfa7b37161",
       "version_major": 2,
       "version_minor": 0
      },
      "text/plain": [
       "HBox(children=(IntProgress(value=0, max=50), HTML(value='')))"
      ]
     },
     "metadata": {},
     "output_type": "display_data"
    },
    {
     "name": "stdout",
     "output_type": "stream",
     "text": [
      "\n",
      "(3302, 277)\n"
     ]
    },
    {
     "data": {
      "application/vnd.jupyter.widget-view+json": {
       "model_id": "7083bdbb689a4846b9beb076c5226c50",
       "version_major": 2,
       "version_minor": 0
      },
      "text/plain": [
       "HBox(children=(IntProgress(value=0, max=50), HTML(value='')))"
      ]
     },
     "metadata": {},
     "output_type": "display_data"
    },
    {
     "name": "stdout",
     "output_type": "stream",
     "text": [
      "\n",
      "(4960, 277)\n"
     ]
    },
    {
     "data": {
      "application/vnd.jupyter.widget-view+json": {
       "model_id": "a4454a3e48d14c13aa5f99063889e9b0",
       "version_major": 2,
       "version_minor": 0
      },
      "text/plain": [
       "HBox(children=(IntProgress(value=0, max=50), HTML(value='')))"
      ]
     },
     "metadata": {},
     "output_type": "display_data"
    },
    {
     "name": "stdout",
     "output_type": "stream",
     "text": [
      "\n",
      "(6618, 277)\n"
     ]
    },
    {
     "data": {
      "application/vnd.jupyter.widget-view+json": {
       "model_id": "55029d44ccbe46309dbda724b5062d21",
       "version_major": 2,
       "version_minor": 0
      },
      "text/plain": [
       "HBox(children=(IntProgress(value=0, max=50), HTML(value='')))"
      ]
     },
     "metadata": {},
     "output_type": "display_data"
    },
    {
     "name": "stdout",
     "output_type": "stream",
     "text": [
      "\n",
      "(8268, 277)\n"
     ]
    },
    {
     "data": {
      "application/vnd.jupyter.widget-view+json": {
       "model_id": "287151440f3c4fb48d5b5377c62f8f36",
       "version_major": 2,
       "version_minor": 0
      },
      "text/plain": [
       "HBox(children=(IntProgress(value=0, max=50), HTML(value='')))"
      ]
     },
     "metadata": {},
     "output_type": "display_data"
    },
    {
     "name": "stdout",
     "output_type": "stream",
     "text": [
      "\n",
      "(9918, 277)\n"
     ]
    },
    {
     "data": {
      "application/vnd.jupyter.widget-view+json": {
       "model_id": "d851f25ec1304cec97bc78309700d2e7",
       "version_major": 2,
       "version_minor": 0
      },
      "text/plain": [
       "HBox(children=(IntProgress(value=0, max=50), HTML(value='')))"
      ]
     },
     "metadata": {},
     "output_type": "display_data"
    },
    {
     "name": "stdout",
     "output_type": "stream",
     "text": [
      "\n",
      "(11574, 277)\n"
     ]
    },
    {
     "data": {
      "application/vnd.jupyter.widget-view+json": {
       "model_id": "fb2e4a00037042ff983eee1991de69c8",
       "version_major": 2,
       "version_minor": 0
      },
      "text/plain": [
       "HBox(children=(IntProgress(value=0, max=50), HTML(value='')))"
      ]
     },
     "metadata": {},
     "output_type": "display_data"
    },
    {
     "name": "stdout",
     "output_type": "stream",
     "text": [
      "\n",
      "(13226, 277)\n"
     ]
    },
    {
     "data": {
      "application/vnd.jupyter.widget-view+json": {
       "model_id": "a45ac252edda4df59e16908ee83cf9b7",
       "version_major": 2,
       "version_minor": 0
      },
      "text/plain": [
       "HBox(children=(IntProgress(value=0, max=50), HTML(value='')))"
      ]
     },
     "metadata": {},
     "output_type": "display_data"
    },
    {
     "name": "stdout",
     "output_type": "stream",
     "text": [
      "\n",
      "(14876, 277)\n",
      "\n"
     ]
    }
   ],
   "source": [
    "train = pd.DataFrame()\n",
    "error = []\n",
    "\n",
    "# load data\n",
    "for file_name in tqdm(excel_list):\n",
    "    # get data\n",
    "    data = pd.read_excel(root+file_name,sheet_name = None)\n",
    "    # get sheet list\n",
    "    start,end = int(file_name.split('_')[-3]),int(file_name.split('_')[-2])\n",
    "    sheet_names = [str(i).zfill(3) for i in range(start,end+1)]\n",
    "    # get sheet\n",
    "    for i in tqdm(sheet_names):\n",
    "        try:\n",
    "            train = train.append(clean_data(data.get(i)))\n",
    "        except:\n",
    "            error.append((file_name,i))\n",
    "    print(train.shape)"
   ]
  },
  {
   "cell_type": "code",
   "execution_count": 6,
   "metadata": {},
   "outputs": [
    {
     "data": {
      "text/plain": [
       "[]"
      ]
     },
     "execution_count": 6,
     "metadata": {},
     "output_type": "execute_result"
    }
   ],
   "source": [
    "error"
   ]
  },
  {
   "cell_type": "markdown",
   "metadata": {},
   "source": [
    "# check and save"
   ]
  },
  {
   "cell_type": "code",
   "execution_count": 7,
   "metadata": {},
   "outputs": [
    {
     "name": "stdout",
     "output_type": "stream",
     "text": [
      "(14876, 277)\n"
     ]
    },
    {
     "data": {
      "text/html": [
       "<div>\n",
       "<style scoped>\n",
       "    .dataframe tbody tr th:only-of-type {\n",
       "        vertical-align: middle;\n",
       "    }\n",
       "\n",
       "    .dataframe tbody tr th {\n",
       "        vertical-align: top;\n",
       "    }\n",
       "\n",
       "    .dataframe thead th {\n",
       "        text-align: right;\n",
       "    }\n",
       "</style>\n",
       "<table border=\"1\" class=\"dataframe\">\n",
       "  <thead>\n",
       "    <tr style=\"text-align: right;\">\n",
       "      <th></th>\n",
       "      <th>Case Conditions_C10+ in Heart Cut (Results)_wt%</th>\n",
       "      <th>Case Conditions_C6P- in Heart Cut (Input)_wt%</th>\n",
       "      <th>Case Conditions_C6P- in Heart Cut (Results)_wt%</th>\n",
       "      <th>Case Conditions_C7+ in Light End (Input)_wt%</th>\n",
       "      <th>Case Conditions_C7+ in Light End (Results)_wt%</th>\n",
       "      <th>Case Conditions_Feed Rate to C013 (Input)_m3/hr</th>\n",
       "      <th>Case Conditions_Feed Rate to C013 (Results)_m3/hr</th>\n",
       "      <th>Case Conditions_Heart Cut Prod. Rate (Input)_m3/hr</th>\n",
       "      <th>Case Conditions_Heart Cut Prod. Rate (Results)_m3/hr</th>\n",
       "      <th>Column Temp Profile_C011 Btm Temp_oC</th>\n",
       "      <th>...</th>\n",
       "      <th>Operating Pressure_C013 Btm_kg/cm2_g</th>\n",
       "      <th>Operating Pressure_C013 Ovhd_kg/cm2_g</th>\n",
       "      <th>Operating Pressure_V012_kg/cm2_g</th>\n",
       "      <th>Specifications_Spec 1 : C7+ in Light End_wt%</th>\n",
       "      <th>Specifications_Spec 2 : Heart Cut Prod. Rate_m3/hr</th>\n",
       "      <th>Specifications_Spec 3 : C6P- in Heart Cut_wt%</th>\n",
       "      <th>Yield Summary_Heart Cut Prod. Rate_m3/hr</th>\n",
       "      <th>Yield Summary_Heavy End Prod. Rate_m3/hr</th>\n",
       "      <th>Yield Summary_Light End Prod. Rate_m3/hr</th>\n",
       "      <th>Yield Summary_Reflux Rate_m3/hr</th>\n",
       "    </tr>\n",
       "  </thead>\n",
       "  <tbody>\n",
       "    <tr>\n",
       "      <td>001-01</td>\n",
       "      <td>6.13864</td>\n",
       "      <td>1</td>\n",
       "      <td>1.00043</td>\n",
       "      <td>2.5</td>\n",
       "      <td>2.50006</td>\n",
       "      <td>10</td>\n",
       "      <td>10</td>\n",
       "      <td>100</td>\n",
       "      <td>100</td>\n",
       "      <td>134.701</td>\n",
       "      <td>...</td>\n",
       "      <td>1.0767</td>\n",
       "      <td>0.844483</td>\n",
       "      <td>0.63</td>\n",
       "      <td>2.50006</td>\n",
       "      <td>100</td>\n",
       "      <td>1.00043</td>\n",
       "      <td>100</td>\n",
       "      <td>10.002</td>\n",
       "      <td>7.9979</td>\n",
       "      <td>47.0316</td>\n",
       "    </tr>\n",
       "    <tr>\n",
       "      <td>001-02</td>\n",
       "      <td>6.24905</td>\n",
       "      <td>1</td>\n",
       "      <td>1.0004</td>\n",
       "      <td>5</td>\n",
       "      <td>4.99988</td>\n",
       "      <td>10</td>\n",
       "      <td>10</td>\n",
       "      <td>100</td>\n",
       "      <td>100</td>\n",
       "      <td>135.046</td>\n",
       "      <td>...</td>\n",
       "      <td>1.06545</td>\n",
       "      <td>0.841137</td>\n",
       "      <td>0.63</td>\n",
       "      <td>4.99988</td>\n",
       "      <td>100</td>\n",
       "      <td>1.0004</td>\n",
       "      <td>100</td>\n",
       "      <td>9.55389</td>\n",
       "      <td>8.44599</td>\n",
       "      <td>44.0333</td>\n",
       "    </tr>\n",
       "    <tr>\n",
       "      <td>001-03</td>\n",
       "      <td>6.37605</td>\n",
       "      <td>1</td>\n",
       "      <td>0.999993</td>\n",
       "      <td>10</td>\n",
       "      <td>10</td>\n",
       "      <td>10</td>\n",
       "      <td>10</td>\n",
       "      <td>100</td>\n",
       "      <td>100</td>\n",
       "      <td>135.526</td>\n",
       "      <td>...</td>\n",
       "      <td>1.05466</td>\n",
       "      <td>0.83775</td>\n",
       "      <td>0.63</td>\n",
       "      <td>10</td>\n",
       "      <td>100</td>\n",
       "      <td>0.999993</td>\n",
       "      <td>100</td>\n",
       "      <td>8.85661</td>\n",
       "      <td>9.14338</td>\n",
       "      <td>41.0794</td>\n",
       "    </tr>\n",
       "    <tr>\n",
       "      <td>001-04</td>\n",
       "      <td>6.31633</td>\n",
       "      <td>1.5</td>\n",
       "      <td>1.50029</td>\n",
       "      <td>2.5</td>\n",
       "      <td>2.50002</td>\n",
       "      <td>10</td>\n",
       "      <td>10</td>\n",
       "      <td>100</td>\n",
       "      <td>100</td>\n",
       "      <td>133.073</td>\n",
       "      <td>...</td>\n",
       "      <td>1.04855</td>\n",
       "      <td>0.836441</td>\n",
       "      <td>0.63</td>\n",
       "      <td>2.50002</td>\n",
       "      <td>100</td>\n",
       "      <td>1.50029</td>\n",
       "      <td>100</td>\n",
       "      <td>10.7157</td>\n",
       "      <td>7.28407</td>\n",
       "      <td>41.4398</td>\n",
       "    </tr>\n",
       "    <tr>\n",
       "      <td>001-05</td>\n",
       "      <td>6.41686</td>\n",
       "      <td>1.5</td>\n",
       "      <td>1.49996</td>\n",
       "      <td>5</td>\n",
       "      <td>5</td>\n",
       "      <td>10</td>\n",
       "      <td>10</td>\n",
       "      <td>100</td>\n",
       "      <td>99.9998</td>\n",
       "      <td>133.386</td>\n",
       "      <td>...</td>\n",
       "      <td>1.03987</td>\n",
       "      <td>0.833844</td>\n",
       "      <td>0.63</td>\n",
       "      <td>5</td>\n",
       "      <td>99.9998</td>\n",
       "      <td>1.49996</td>\n",
       "      <td>99.9998</td>\n",
       "      <td>10.3031</td>\n",
       "      <td>7.69713</td>\n",
       "      <td>38.8748</td>\n",
       "    </tr>\n",
       "  </tbody>\n",
       "</table>\n",
       "<p>5 rows × 277 columns</p>\n",
       "</div>"
      ],
      "text/plain": [
       "       Case Conditions_C10+ in Heart Cut (Results)_wt%  \\\n",
       "001-01                                         6.13864   \n",
       "001-02                                         6.24905   \n",
       "001-03                                         6.37605   \n",
       "001-04                                         6.31633   \n",
       "001-05                                         6.41686   \n",
       "\n",
       "       Case Conditions_C6P- in Heart Cut (Input)_wt%  \\\n",
       "001-01                                             1   \n",
       "001-02                                             1   \n",
       "001-03                                             1   \n",
       "001-04                                           1.5   \n",
       "001-05                                           1.5   \n",
       "\n",
       "       Case Conditions_C6P- in Heart Cut (Results)_wt%  \\\n",
       "001-01                                         1.00043   \n",
       "001-02                                          1.0004   \n",
       "001-03                                        0.999993   \n",
       "001-04                                         1.50029   \n",
       "001-05                                         1.49996   \n",
       "\n",
       "       Case Conditions_C7+ in Light End (Input)_wt%  \\\n",
       "001-01                                          2.5   \n",
       "001-02                                            5   \n",
       "001-03                                           10   \n",
       "001-04                                          2.5   \n",
       "001-05                                            5   \n",
       "\n",
       "       Case Conditions_C7+ in Light End (Results)_wt%  \\\n",
       "001-01                                        2.50006   \n",
       "001-02                                        4.99988   \n",
       "001-03                                             10   \n",
       "001-04                                        2.50002   \n",
       "001-05                                              5   \n",
       "\n",
       "       Case Conditions_Feed Rate to C013 (Input)_m3/hr  \\\n",
       "001-01                                              10   \n",
       "001-02                                              10   \n",
       "001-03                                              10   \n",
       "001-04                                              10   \n",
       "001-05                                              10   \n",
       "\n",
       "       Case Conditions_Feed Rate to C013 (Results)_m3/hr  \\\n",
       "001-01                                                10   \n",
       "001-02                                                10   \n",
       "001-03                                                10   \n",
       "001-04                                                10   \n",
       "001-05                                                10   \n",
       "\n",
       "       Case Conditions_Heart Cut Prod. Rate (Input)_m3/hr  \\\n",
       "001-01                                                100   \n",
       "001-02                                                100   \n",
       "001-03                                                100   \n",
       "001-04                                                100   \n",
       "001-05                                                100   \n",
       "\n",
       "       Case Conditions_Heart Cut Prod. Rate (Results)_m3/hr  \\\n",
       "001-01                                                100     \n",
       "001-02                                                100     \n",
       "001-03                                                100     \n",
       "001-04                                                100     \n",
       "001-05                                            99.9998     \n",
       "\n",
       "       Column Temp Profile_C011 Btm Temp_oC  ...  \\\n",
       "001-01                              134.701  ...   \n",
       "001-02                              135.046  ...   \n",
       "001-03                              135.526  ...   \n",
       "001-04                              133.073  ...   \n",
       "001-05                              133.386  ...   \n",
       "\n",
       "       Operating Pressure_C013 Btm_kg/cm2_g  \\\n",
       "001-01                               1.0767   \n",
       "001-02                              1.06545   \n",
       "001-03                              1.05466   \n",
       "001-04                              1.04855   \n",
       "001-05                              1.03987   \n",
       "\n",
       "       Operating Pressure_C013 Ovhd_kg/cm2_g Operating Pressure_V012_kg/cm2_g  \\\n",
       "001-01                              0.844483                             0.63   \n",
       "001-02                              0.841137                             0.63   \n",
       "001-03                               0.83775                             0.63   \n",
       "001-04                              0.836441                             0.63   \n",
       "001-05                              0.833844                             0.63   \n",
       "\n",
       "       Specifications_Spec 1 : C7+ in Light End_wt%  \\\n",
       "001-01                                      2.50006   \n",
       "001-02                                      4.99988   \n",
       "001-03                                           10   \n",
       "001-04                                      2.50002   \n",
       "001-05                                            5   \n",
       "\n",
       "       Specifications_Spec 2 : Heart Cut Prod. Rate_m3/hr  \\\n",
       "001-01                                                100   \n",
       "001-02                                                100   \n",
       "001-03                                                100   \n",
       "001-04                                                100   \n",
       "001-05                                            99.9998   \n",
       "\n",
       "       Specifications_Spec 3 : C6P- in Heart Cut_wt%  \\\n",
       "001-01                                       1.00043   \n",
       "001-02                                        1.0004   \n",
       "001-03                                      0.999993   \n",
       "001-04                                       1.50029   \n",
       "001-05                                       1.49996   \n",
       "\n",
       "       Yield Summary_Heart Cut Prod. Rate_m3/hr  \\\n",
       "001-01                                      100   \n",
       "001-02                                      100   \n",
       "001-03                                      100   \n",
       "001-04                                      100   \n",
       "001-05                                  99.9998   \n",
       "\n",
       "       Yield Summary_Heavy End Prod. Rate_m3/hr  \\\n",
       "001-01                                   10.002   \n",
       "001-02                                  9.55389   \n",
       "001-03                                  8.85661   \n",
       "001-04                                  10.7157   \n",
       "001-05                                  10.3031   \n",
       "\n",
       "       Yield Summary_Light End Prod. Rate_m3/hr  \\\n",
       "001-01                                   7.9979   \n",
       "001-02                                  8.44599   \n",
       "001-03                                  9.14338   \n",
       "001-04                                  7.28407   \n",
       "001-05                                  7.69713   \n",
       "\n",
       "       Yield Summary_Reflux Rate_m3/hr  \n",
       "001-01                         47.0316  \n",
       "001-02                         44.0333  \n",
       "001-03                         41.0794  \n",
       "001-04                         41.4398  \n",
       "001-05                         38.8748  \n",
       "\n",
       "[5 rows x 277 columns]"
      ]
     },
     "execution_count": 7,
     "metadata": {},
     "output_type": "execute_result"
    }
   ],
   "source": [
    "print(train.shape)\n",
    "train.head()"
   ]
  },
  {
   "cell_type": "code",
   "execution_count": 8,
   "metadata": {},
   "outputs": [],
   "source": [
    "xna_col = ['Naphtha Properties_{}_wt%'.format(i.strip()) for i in component_list]\n",
    "xle_col = ['Light End Product Properties_{}_wt%'.format(i.strip()) for i in component_list]\n",
    "xhc_col = ['Heart Cut Product Properties_{}_wt%'.format(i.strip()) for i in component_list]\n",
    "xhe_col = ['Heavy End Product Properties_{}_wt%'.format(i.strip()) for i in component_list]"
   ]
  },
  {
   "cell_type": "code",
   "execution_count": 9,
   "metadata": {},
   "outputs": [],
   "source": [
    "xna = train[xna_col]\n",
    "xle = train[xle_col]\n",
    "xhc = train[xhc_col]\n",
    "xhe = train[xhe_col]"
   ]
  },
  {
   "cell_type": "code",
   "execution_count": 10,
   "metadata": {},
   "outputs": [
    {
     "name": "stdout",
     "output_type": "stream",
     "text": [
      "(14876, 277)\n",
      "(14876, 277)\n"
     ]
    }
   ],
   "source": [
    "print(train.shape)\n",
    "train = train.drop(xna+xle+xhc+xhe,axis=1)\n",
    "train = pd.concat([train,xna,xle,xhc,xhe],axis=1)\n",
    "print(train.shape)"
   ]
  },
  {
   "cell_type": "code",
   "execution_count": 11,
   "metadata": {},
   "outputs": [],
   "source": [
    "fna_col = ['Naphtha Properties_Naphtha Feed Rate_ton/hr']\n",
    "fle_col = ['Light End Product Properties_Light End Prod. Rate_ton/hr']\n",
    "fhc_col = ['Heart Cut Product Properties_Heart Cut Prod. Rate_ton/hr']\n",
    "fhe_col = ['Heavy End Product Properties_Heavy End Product Rate_ton/hr']"
   ]
  },
  {
   "cell_type": "code",
   "execution_count": 12,
   "metadata": {},
   "outputs": [],
   "source": [
    "col_names = {}\n",
    "col_names['component_list'] = component_list\n",
    "#==========================\n",
    "col_names['xna'] = xna_col\n",
    "#=========================\n",
    "col_names['xle'] = xle_col\n",
    "col_names['xhc'] = xhc_col\n",
    "col_names['xhe'] = xhe_col\n",
    "#=========================\n",
    "col_names['fna'] = fna_col\n",
    "#=========================\n",
    "col_names['fle'] = fle_col\n",
    "col_names['fhc'] = fhc_col\n",
    "col_names['fhe'] = fhe_col\n",
    "#=========================\n",
    "col_names['all'] = xna_col+xle_col+xhc_col+xhe_col+fna_col+fle_col+fhc_col+fhe_col"
   ]
  },
  {
   "cell_type": "code",
   "execution_count": 13,
   "metadata": {},
   "outputs": [
    {
     "data": {
      "text/plain": [
       "['./dataset/col_names.pkl']"
      ]
     },
     "execution_count": 13,
     "metadata": {},
     "output_type": "execute_result"
    }
   ],
   "source": [
    "train.to_csv('./dataset/train.csv')\n",
    "joblib.dump(col_names,'./dataset/col_names.pkl')"
   ]
  },
  {
   "cell_type": "code",
   "execution_count": null,
   "metadata": {},
   "outputs": [],
   "source": []
  }
 ],
 "metadata": {
  "kernelspec": {
   "display_name": "Python 3",
   "language": "python",
   "name": "python3"
  },
  "language_info": {
   "codemirror_mode": {
    "name": "ipython",
    "version": 3
   },
   "file_extension": ".py",
   "mimetype": "text/x-python",
   "name": "python",
   "nbconvert_exporter": "python",
   "pygments_lexer": "ipython3",
   "version": "3.7.4"
  }
 },
 "nbformat": 4,
 "nbformat_minor": 2
}
